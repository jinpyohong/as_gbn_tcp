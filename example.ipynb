{
 "cells": [
  {
   "cell_type": "markdown",
   "metadata": {},
   "source": [
    "# TCP-like GBN Implementation\n",
    "TCP에서와 같이 receive window size를 N(>=1)으로 지정할 수 있어, 성능이 더 낳은 implementaion이다.\n",
    "가독성이 좋고 debugging이 쉽도록 object-oriented programming해 보자."
   ]
  },
  {
   "cell_type": "markdown",
   "metadata": {},
   "source": [
    "## More on Python\n",
    "### f-string"
   ]
  },
  {
   "cell_type": "code",
   "execution_count": 1,
   "metadata": {},
   "outputs": [
    {
     "data": {
      "text/plain": [
       "\"a list: ['a', 'b', 'c']\""
      ]
     },
     "execution_count": 1,
     "metadata": {},
     "output_type": "execute_result"
    }
   ],
   "source": [
    "l = ['a', 'b', 'c']\n",
    "'a list: {}'.format(l)"
   ]
  },
  {
   "cell_type": "code",
   "execution_count": 2,
   "metadata": {},
   "outputs": [
    {
     "data": {
      "text/plain": [
       "\"a list: ['a', 'b', 'c']\""
      ]
     },
     "execution_count": 2,
     "metadata": {},
     "output_type": "execute_result"
    }
   ],
   "source": [
    "f'a list: {l}'"
   ]
  },
  {
   "cell_type": "markdown",
   "metadata": {},
   "source": [
    "### Enumeration - defining constants\n",
    "enum 모듈에 Enum class와 이의 subclass인 IntEnum, IntFlag 등의 class가 정의되어 있다. 이들을 상속해서 class를 정의한다.\n",
    "#### Enum\n",
    "목록을 열거하는데 사용한다.\n",
    "- `==`, `!=`, `in`(membership operator) 가능"
   ]
  },
  {
   "cell_type": "code",
   "execution_count": 1,
   "metadata": {},
   "outputs": [],
   "source": [
    "from enum import Enum\n",
    "class Color(Enum):\n",
    "    RED = 1\n",
    "    GREEN = 2\n",
    "    BLUE = 3\n",
    "    \n",
    "color = Color.RED\n",
    "print(color)\n",
    "print(repr(color))\n",
    "print(color.name, color.value)\n",
    "print(Color.__members__)"
   ]
  },
  {
   "cell_type": "code",
   "execution_count": 2,
   "metadata": {},
   "outputs": [
    {
     "name": "stdout",
     "output_type": "stream",
     "text": [
      "RED Color.RED\n",
      "GREEN Color.GREEN\n",
      "BLUE Color.BLUE\n"
     ]
    }
   ],
   "source": [
    "for name, member in Color.__members__.items():\n",
    "    print(name, member)"
   ]
  },
  {
   "cell_type": "code",
   "execution_count": 3,
   "metadata": {},
   "outputs": [
    {
     "name": "stdout",
     "output_type": "stream",
     "text": [
      "red delicious\n",
      "{<Color.RED: 1>: 'red delicious', <Color.GREEN: 2>: 'granny smith'}\n"
     ]
    }
   ],
   "source": [
    "apples = {}\n",
    "apples[Color.RED] = 'red delicious'\n",
    "apples[Color.GREEN] = 'granny smith'\n",
    "# apples == {Color.RED: 'red delicious', Color.GREEN: 'granny smith'}\n",
    "print(apples[color])\n",
    "print(apples)"
   ]
  },
  {
   "cell_type": "code",
   "execution_count": 4,
   "metadata": {},
   "outputs": [
    {
     "data": {
      "text/plain": [
       "True"
      ]
     },
     "execution_count": 4,
     "metadata": {},
     "output_type": "execute_result"
    }
   ],
   "source": [
    "color is Color.RED"
   ]
  },
  {
   "cell_type": "code",
   "execution_count": 5,
   "metadata": {},
   "outputs": [
    {
     "data": {
      "text/plain": [
       "True"
      ]
     },
     "execution_count": 5,
     "metadata": {},
     "output_type": "execute_result"
    }
   ],
   "source": [
    "color == Color.RED"
   ]
  },
  {
   "cell_type": "code",
   "execution_count": 6,
   "metadata": {},
   "outputs": [
    {
     "data": {
      "text/plain": [
       "True"
      ]
     },
     "execution_count": 6,
     "metadata": {},
     "output_type": "execute_result"
    }
   ],
   "source": [
    "color in Color"
   ]
  },
  {
   "cell_type": "code",
   "execution_count": 7,
   "metadata": {},
   "outputs": [
    {
     "data": {
      "text/plain": [
       "False"
      ]
     },
     "execution_count": 7,
     "metadata": {},
     "output_type": "execute_result"
    }
   ],
   "source": [
    "color == 1   # color와 1은 다른 type이니까 같지 않다."
   ]
  },
  {
   "cell_type": "code",
   "execution_count": 8,
   "metadata": {},
   "outputs": [
    {
     "name": "stdout",
     "output_type": "stream",
     "text": [
      "'<' not supported between instances of 'Color' and 'Color'\n"
     ]
    }
   ],
   "source": [
    "try:\n",
    "    Color.RED < Color.BLUE    # 크기 비교는 불가능\n",
    "except TypeError as e:\n",
    "    print(e)"
   ]
  },
  {
   "cell_type": "code",
   "execution_count": 9,
   "metadata": {},
   "outputs": [
    {
     "name": "stdout",
     "output_type": "stream",
     "text": [
      "Color.GREEN\n",
      "4 is not a valid Color\n"
     ]
    }
   ],
   "source": [
    "# 정수에서 Enum object creation\n",
    "c = Color(2)\n",
    "print(c)\n",
    "try:\n",
    "    d = Color(4)\n",
    "except ValueError as e:\n",
    "    print(e)"
   ]
  },
  {
   "cell_type": "code",
   "execution_count": 10,
   "metadata": {},
   "outputs": [
    {
     "data": {
      "text/plain": [
       "mappingproxy({'Wait': <State.Wait: 1>,\n",
       "              'Closing': <State.Closing: 2>,\n",
       "              'Closed': <State.Closed: 3>})"
      ]
     },
     "execution_count": 10,
     "metadata": {},
     "output_type": "execute_result"
    }
   ],
   "source": [
    "from enum import auto\n",
    "\n",
    "class State(Enum):   # States\n",
    "    Wait    = auto()\n",
    "    Closing = auto()\n",
    "    Closed  = auto()\n",
    "    \n",
    "State.__members__"
   ]
  },
  {
   "cell_type": "markdown",
   "metadata": {},
   "source": [
    "#### IntEnum - Integer Enumeration\n",
    "Enum과 int에서 상속받은 class\n",
    "- 크고 작음을 비교할 수 있는 Enum\n",
    "- 사칙연산 등 int type operation 사용 가능하나 의미가 없다."
   ]
  },
  {
   "cell_type": "code",
   "execution_count": 11,
   "metadata": {},
   "outputs": [
    {
     "name": "stdout",
     "output_type": "stream",
     "text": [
      "Ev.TO_Closing\n",
      "TO_Closing 33\n",
      "Ev.TO_Closing occurs\n",
      "a TIMEOUT event\n"
     ]
    }
   ],
   "source": [
    "from enum import IntEnum\n",
    "\n",
    "class Ev(IntEnum):      # events\n",
    "    Packet_Arrival  = 1\n",
    "    App_Request     = 16\n",
    "    TO_Retransmit   = 32\n",
    "    TO_Closing      = 33\n",
    "    TO_DelayedACK   = 34\n",
    "    \n",
    "event = Ev.TO_Closing\n",
    "print(event)\n",
    "print(event.name, event.value)\n",
    "if event == Ev.TO_Closing:\n",
    "    print(event, 'occurs')\n",
    "if event >= 32:\n",
    "    print('a TIMEOUT event')"
   ]
  },
  {
   "cell_type": "markdown",
   "metadata": {},
   "source": [
    "주의: +, - 가능하지만 의미가 없다."
   ]
  },
  {
   "cell_type": "code",
   "execution_count": 12,
   "metadata": {},
   "outputs": [
    {
     "data": {
      "text/plain": [
       "32"
      ]
     },
     "execution_count": 12,
     "metadata": {},
     "output_type": "execute_result"
    }
   ],
   "source": [
    "Ev.App_Request + 16"
   ]
  },
  {
   "cell_type": "markdown",
   "metadata": {},
   "source": [
    "#### IntFlag\n",
    "IntEnum에서 상속받은 Enum으로 bitwise operation(`&`, `|`, `~`)이 가능하다."
   ]
  },
  {
   "cell_type": "code",
   "execution_count": 13,
   "metadata": {},
   "outputs": [
    {
     "name": "stdout",
     "output_type": "stream",
     "text": [
      "Type.SYN|ACK\n",
      "None 10\n",
      "ACK packet\n",
      "SYN packet\n",
      "ACK packet\n"
     ]
    }
   ],
   "source": [
    "from enum import IntFlag\n",
    "\n",
    "class Type(IntFlag):\n",
    "    \"\"\"Packet type definition\n",
    "    \"\"\"\n",
    "    DATA    = 1\n",
    "    ACK     = 2\n",
    "    FIN     = 4\n",
    "    SYN     = 8\n",
    "    RST     = 16\n",
    "    URG     = 32\n",
    "    PSH     = 64\n",
    "    \n",
    "t = Type.SYN | Type.ACK\n",
    "print(t)\n",
    "print(t.name, t.value)\n",
    "if t & Type.ACK:\n",
    "    print('ACK packet')\n",
    "if t & Type.SYN:\n",
    "    print('SYN packet')\n",
    "if Type.ACK in t:\n",
    "    print('ACK packet')"
   ]
  },
  {
   "cell_type": "markdown",
   "metadata": {},
   "source": [
    "## Packet class\n",
    "make_pkt(), ichksum 등 function들을 Packet class의 method로 만들어 encapulate했다."
   ]
  },
  {
   "cell_type": "code",
   "execution_count": 14,
   "metadata": {},
   "outputs": [
    {
     "name": "stdout",
     "output_type": "stream",
     "text": [
      "DATA 5 b'\\x01\\x05\\xda\\xd400005 abcdef'\n",
      "bytearray(b'\\x01\\x05\\xda\\xd400005 abcdefghijklmnopqrstuvwxyz\\n')\n",
      "Type.DATA\n",
      "5\n",
      "Seq(5)\n",
      "bytearray(b'\\xda')\n",
      "bytearray(b'00005 abcdefghijklmnopqrstuvwxyz\\n')\n"
     ]
    }
   ],
   "source": [
    "from packet import Seq, srange, Type, Packet, PacketBuffer\n",
    "\n",
    "data = b'00005 abcdefghijklmnopqrstuvwxyz\\n'\n",
    "next_seq = Seq(5)\n",
    "sndpkt = Packet(Type.DATA, next_seq, data)\n",
    "print(sndpkt)\n",
    "print(sndpkt.pdu)\n",
    "print(sndpkt.type)\n",
    "print(sndpkt.seq)\n",
    "print(repr(sndpkt.seq))\n",
    "print(sndpkt.checksum)\n",
    "print(sndpkt.data)"
   ]
  },
  {
   "cell_type": "code",
   "execution_count": 15,
   "metadata": {},
   "outputs": [
    {
     "name": "stdout",
     "output_type": "stream",
     "text": [
      "corrupt: ACK 5 b'\\x02\\x05\\xda\\xd400005 abcdef'\n",
      "bytearray(b'00005 abcdefghijklmnopqrstuvwxyz\\n')\n"
     ]
    }
   ],
   "source": [
    "import copy\n",
    "pdu = copy.copy(sndpkt.pdu)  # deep copy\n",
    "pdu[0] += 1    # cause bit error\n",
    "rcvpkt = Packet(pdu)\n",
    "if rcvpkt.corrupt():\n",
    "    print('corrupt:', rcvpkt)\n",
    "data = rcvpkt.extract()\n",
    "print(data)"
   ]
  },
  {
   "cell_type": "markdown",
   "metadata": {},
   "source": [
    "## PacketBuffer\n",
    "### GBNsend: send buffer"
   ]
  },
  {
   "cell_type": "code",
   "execution_count": 16,
   "metadata": {},
   "outputs": [],
   "source": [
    "N = 16\n",
    "sndbuf = PacketBuffer(N)\n",
    "base = Seq(254)\n",
    "next_seq = Seq(254)"
   ]
  },
  {
   "cell_type": "code",
   "execution_count": 17,
   "metadata": {},
   "outputs": [
    {
     "name": "stdout",
     "output_type": "stream",
     "text": [
      "254: DATA 254 b'\\x01\\xfe\\xb9\\xe3hello, '\n",
      "255: DATA 255 b'\\x01\\xff\\xb9\\xe2hello, '\n",
      "0: DATA 0 b'\\x01\\x00\\xba\\xe1hello, '\n",
      "1: DATA 1 b'\\x01\\x01\\xba\\xe0hello, '\n"
     ]
    }
   ],
   "source": [
    "for i in range(4):\n",
    "    sndbuf[next_seq] = Packet(Type.DATA, next_seq, b'hello, ')\n",
    "    next_seq += 1\n",
    "print(sndbuf)"
   ]
  },
  {
   "cell_type": "code",
   "execution_count": 18,
   "metadata": {
    "scrolled": true
   },
   "outputs": [
    {
     "name": "stdout",
     "output_type": "stream",
     "text": [
      "0: DATA 0 b'\\x01\\x00\\xba\\xe1hello, '\n",
      "1: DATA 1 b'\\x01\\x01\\xba\\xe0hello, '\n"
     ]
    }
   ],
   "source": [
    "rcvpkt = Packet(Type.ACK, Seq(0))\n",
    "acknum = rcvpkt.seq\n",
    "for seq in srange(base, acknum):\n",
    "    del sndbuf[seq]\n",
    "base = acknum\n",
    "print(sndbuf)"
   ]
  },
  {
   "cell_type": "markdown",
   "metadata": {},
   "source": [
    "### GBNrecv: receive buffer"
   ]
  },
  {
   "cell_type": "code",
   "execution_count": 19,
   "metadata": {},
   "outputs": [
    {
     "name": "stdout",
     "output_type": "stream",
     "text": [
      "254: DATA 254 b'\\x01\\xfe(\\xc1hello'\n",
      "0: DATA 0 b'\\x01\\x00)\\xbfhello'\n",
      "1: DATA 1 b'\\x01\\x01)\\xbehello'\n"
     ]
    }
   ],
   "source": [
    "N = 16\n",
    "rcvbuf = PacketBuffer(N)\n",
    "for s in [Seq(254), Seq(0), Seq(1)]:\n",
    "    rcvbuf[s] = Packet(Type.DATA, s, b'hello')\n",
    "print(rcvbuf)"
   ]
  },
  {
   "cell_type": "markdown",
   "metadata": {},
   "source": [
    "#### Retrieving packet from PacketBuffer\n",
    "PacketBuffer는 dict로 구현되어 있고, 0 ~ 255 범위의 Seq type의 key로 검색할 수 있다.\n",
    "해당 seq에 packet이 없으면(즉, hole이 있으면) None이 return된다."
   ]
  },
  {
   "cell_type": "code",
   "execution_count": 20,
   "metadata": {
    "scrolled": true
   },
   "outputs": [
    {
     "name": "stdout",
     "output_type": "stream",
     "text": [
      "DATA 254 b'\\x01\\xfe(\\xc1hello'\n",
      "None\n",
      "DATA 0 b'\\x01\\x00)\\xbfhello'\n",
      "DATA 1 b'\\x01\\x01)\\xbehello'\n",
      "None\n"
     ]
    }
   ],
   "source": [
    "for s in srange(Seq(254), Seq(254)+5):\n",
    "    print(rcvbuf[s])"
   ]
  },
  {
   "cell_type": "markdown",
   "metadata": {},
   "source": [
    "Hole 바로 전까지가 순서에 맞는 것이니 data를 application으로 deliver할 수 있다.  아래에서 255 packet이 저장되면, 연속된 4개의 packet에서 extract한 data를 전달하면 된다."
   ]
  },
  {
   "cell_type": "code",
   "execution_count": 21,
   "metadata": {
    "scrolled": true
   },
   "outputs": [
    {
     "name": "stdout",
     "output_type": "stream",
     "text": [
      "DATA 254 b'\\x01\\xfe(\\xc1hello'\n",
      "DATA 255 b'\\x01\\xff\\x13\\xc1world'\n",
      "DATA 0 b'\\x01\\x00)\\xbfhello'\n",
      "DATA 1 b'\\x01\\x01)\\xbehello'\n",
      "None\n"
     ]
    }
   ],
   "source": [
    "rcvpkt = Packet(Type.DATA, Seq(255), b'world') # new packet arrival\n",
    "rcvbuf[rcvpkt.seq] = rcvpkt\n",
    "for s in srange(Seq(254), Seq(254)+5):\n",
    "    print(rcvbuf[s])"
   ]
  },
  {
   "cell_type": "markdown",
   "metadata": {},
   "source": [
    "*Q. 이때 ACK number는 ?*"
   ]
  },
  {
   "cell_type": "markdown",
   "metadata": {},
   "source": [
    "## Timer\n",
    "여러개의 timer를 start, stop할 수 있게 Timer class가 제공되어 있다. 초기 timeout interval이 다음과 같이 지정된다.\n",
    "```Python\n",
    "class Ev(IntEnum):      # events\n",
    "    Packet_Arrival  = 1\n",
    "    App_Request     = 16\n",
    "    TO_Retransmit   = 32\n",
    "    TO_Closing      = 33\n",
    "    TO_DelayedACK   = 34\n",
    "\n",
    "# initial timeout interval\n",
    "TO_interval= {\n",
    "    Ev.TO_Retransmit: 0.2 + 5 * EXTRA_MEAN_DELAY,\n",
    "    Ev.TO_Closing: 1,\n",
    "    Ev.TO_DelayedACK: 0.5\n",
    "              }\n",
    "```\n",
    "\n",
    "예를 들어, Ev.TO_Retransmit timer를 start, stop하려면,\n",
    "```Python\n",
    "timer = Timer()\n",
    "\n",
    "timer.start_timer(Ev.TO_Retransmit) # 지정된 interval이 지나면 Ev.TO_Retransmit이 발생\n",
    "timer.start_timer(Ev.TO_DelayedACK) # 0.5초 지나면 Ev.TO_Delayed을 발생\n",
    "\n",
    "timer.stop(Ev.TO_Retransmit)\n",
    "```\n",
    "\n",
    "하나의 Timer class object 여러개의 timer 가동 가능. Timeout interval이 지나면 지정한 timeout event가 발생한다.\n",
    "같은 방식으로 Ev.TO_Closing timer를 가동시킬 수 있다. \n",
    "> 주의: 각각의 thread에서 각각 독립적인 Timer object을 생성해서 사용할 수 있지만, 둘 이상의 thread에서 하나의 Timer를 공유해서 사용할 수 없다. \n",
    "### Dynamic timeout interval의 변경\n",
    "```Python\n",
    "intv = timer.get_intv(Ev.TO_Retrasmit)\n",
    "\n",
    "timer.set_intv(Ev.TO_Retramit, new_intv)\n",
    "```"
   ]
  },
  {
   "cell_type": "markdown",
   "metadata": {},
   "source": [
    "## How to start GBNsend and GBNrecv threads\n",
    "Application은 다음 open 함수로 GBNsend나 GBNrecv를 실행시킬 수 있다."
   ]
  },
  {
   "cell_type": "code",
   "execution_count": null,
   "metadata": {},
   "outputs": [],
   "source": [
    "def open(peer_host, N, passive=False):\n",
    "    \"\"\"Open GBN protocol entity\n",
    "\n",
    "    :param peer_host: peer host name\n",
    "    :param passive: for sending (default), for receiving if True\n",
    "    :return: GBN thread object\n",
    "    \"\"\"\n",
    "    assert N < Seq.MOD, \"N: too big\"\n",
    "    if passive:\n",
    "        gbn = GBNrecv((peer_host, sender_port), N)\n",
    "        gbn.start()\n",
    "        logging.info('app receiver starts')\n",
    "    else:\n",
    "        gbn = GBNsend((peer_host, receiver_port), N)\n",
    "        gbn.start()\n",
    "        logging.info('app sender starts')\n",
    "    return gbn"
   ]
  },
  {
   "cell_type": "markdown",
   "metadata": {},
   "source": [
    "#### Active open to run GBNsend thread - sender에서 사용"
   ]
  },
  {
   "cell_type": "code",
   "execution_count": null,
   "metadata": {},
   "outputs": [],
   "source": [
    "gs = gbn.open(peer_host='localhost', N=16)\n",
    "pass \n",
    "gs.close()"
   ]
  },
  {
   "cell_type": "markdown",
   "metadata": {},
   "source": [
    "> `gs.close()`는 FIN을 보내달라는 request이다. Sender에서 마지막은 이를 call해야 한다. (receiver에서는 사용해선 안된다.)"
   ]
  },
  {
   "cell_type": "markdown",
   "metadata": {},
   "source": [
    "#### Passive open to run GBNrecv thread - receiver에서 사용"
   ]
  },
  {
   "cell_type": "code",
   "execution_count": null,
   "metadata": {},
   "outputs": [],
   "source": [
    "r = gbn.open(peer_host='localhost', N=16, passive=True)"
   ]
  }
 ],
 "metadata": {
  "kernelspec": {
   "display_name": "Python 3",
   "language": "python",
   "name": "python3"
  },
  "language_info": {
   "codemirror_mode": {
    "name": "ipython",
    "version": 3
   },
   "file_extension": ".py",
   "mimetype": "text/x-python",
   "name": "python",
   "nbconvert_exporter": "python",
   "pygments_lexer": "ipython3",
   "version": "3.6.3"
  }
 },
 "nbformat": 4,
 "nbformat_minor": 2
}
